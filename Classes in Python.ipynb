{
 "cells": [
  {
   "cell_type": "code",
   "execution_count": null,
   "metadata": {},
   "outputs": [],
   "source": []
  },
  {
   "cell_type": "code",
   "execution_count": 1,
   "metadata": {},
   "outputs": [
    {
     "name": "stdout",
     "output_type": "stream",
     "text": [
      "Make Phone calls\n",
      "Playing games\n"
     ]
    }
   ],
   "source": [
    "class Phone:\n",
    "    def make_call(self):\n",
    "        print(\"Make Phone calls\")\n",
    "    def play_game(self):\n",
    "        print(\"Playing games\")\n",
    "p1 = Phone()\n",
    "p1.make_call()\n",
    "p1.play_game()"
   ]
  },
  {
   "cell_type": "markdown",
   "metadata": {},
   "source": [
    "***************************************************************************\n",
    "class name should always start by capital letter\n",
    "\n",
    "self is used to invoke inbuilt parameter\n",
    "\n",
    "class is like a template\n",
    "\n",
    "object is an entity which belongs to particular class.\n",
    "\n",
    "for eg, Phone can be considered as a class and nokia, motorola, One plus can be considered the objects of class phone.\n",
    "\n",
    "class has basically two features:Properties and behaviour\n",
    "\n",
    "In programming language we call properties as Attributes and behaviour as methods \n",
    "\n",
    "in case of class Phone, color and cost can be considered as its attributes and make_cakk and play_games can be considered as methods\n"
   ]
  },
  {
   "cell_type": "code",
   "execution_count": 2,
   "metadata": {},
   "outputs": [],
   "source": [
    "########################################################################"
   ]
  },
  {
   "cell_type": "code",
   "execution_count": 6,
   "metadata": {},
   "outputs": [
    {
     "name": "stdout",
     "output_type": "stream",
     "text": [
      "black\n",
      "5000\n",
      "Make Phone calls\n",
      "Playing games\n"
     ]
    }
   ],
   "source": [
    "class Phone:\n",
    "    def set_color(self,color):\n",
    "        self.color = color\n",
    "    def set_cost(self, cost):\n",
    "        self.cost = cost\n",
    "    def show_color(self):\n",
    "        return self.color\n",
    "    def show_cost(self):\n",
    "        return self.cost\n",
    "    def make_call(self):\n",
    "        print(\"Make Phone calls\")\n",
    "    def play_game(self):\n",
    "        print(\"Playing games\")\n",
    "p2 = Phone()\n",
    "p2.set_color(\"black\")\n",
    "p2.set_cost(5000)\n",
    "print(p2.show_color())\n",
    "print(p2.show_cost())\n",
    "p2.make_call()\n",
    "p2.play_game()"
   ]
  },
  {
   "cell_type": "markdown",
   "metadata": {},
   "source": [
    "*******************************************************************************\n",
    "In above case to assign each and every properties we need to define separate method insde a class. in order to reduce down the number of methods exclusively for assigning attributes we can take the help of constructor\n",
    "For intiallizing the attrbutes we can take the help of __init__ costructor\n",
    "Here while creating an object, we can pass the parameters at same instant itself."
   ]
  },
  {
   "cell_type": "code",
   "execution_count": 11,
   "metadata": {},
   "outputs": [
    {
     "name": "stdout",
     "output_type": "stream",
     "text": [
      "Color of phone is :  Black\n",
      "cost of the phone is :  5000\n",
      "Make a call\n",
      "Playing games\n"
     ]
    }
   ],
   "source": [
    "class Phone:\n",
    "    def __init__(self,color,cost):\n",
    "        self.color = color\n",
    "        self.cost = cost\n",
    "    def phone_properties(self):\n",
    "        print(\"Color of phone is : \",self.color)\n",
    "        print(\"cost of the phone is : \",self.cost)\n",
    "    def make_call(self):\n",
    "        print(\"Make a call\")\n",
    "    def play_games(self):\n",
    "        print(\"Playing games\")\n",
    "        \n",
    "p3 = Phone(\"Black\",5000)\n",
    "p3.phone_properties()\n",
    "p3.make_call()\n",
    "p3.play_games()"
   ]
  },
  {
   "cell_type": "markdown",
   "metadata": {},
   "source": [
    "### Inheritance"
   ]
  },
  {
   "cell_type": "markdown",
   "metadata": {},
   "source": [
    "<img src=\"Inheritance.PNG\" width=\"800\" />"
   ]
  },
  {
   "cell_type": "code",
   "execution_count": 70,
   "metadata": {},
   "outputs": [],
   "source": [
    "#parent class is called as super lass\n",
    "#child class is called as subclass\n"
   ]
  },
  {
   "cell_type": "code",
   "execution_count": 71,
   "metadata": {},
   "outputs": [
    {
     "name": "stdout",
     "output_type": "stream",
     "text": [
      "Mileage of vehivle is:  300\n",
      "Cost of vehilce is:  500\n",
      "I am a vehicle\n"
     ]
    }
   ],
   "source": [
    "class Vehicle:\n",
    "    def __init__(self, mileage, cost):\n",
    "        self.mileage = mileage\n",
    "        self.cost = cost\n",
    "    def show_vehicle_details(self):\n",
    "        print(\"Mileage of vehivle is: \",self.mileage)\n",
    "        print(\"Cost of vehilce is: \",self.cost)\n",
    "        print(\"I am a vehicle\")\n",
    "v1 = Vehicle(300,500)\n",
    "v1.show_vehicle_details()\n",
    "    "
   ]
  },
  {
   "cell_type": "code",
   "execution_count": 72,
   "metadata": {},
   "outputs": [
    {
     "name": "stdout",
     "output_type": "stream",
     "text": [
      "Mileage of vehivle is:  200\n",
      "Cost of vehilce is:  800\n",
      "I am a vehicle\n",
      "I am a car\n"
     ]
    }
   ],
   "source": [
    "#Creating child class\n",
    "class Car(Vehicle):\n",
    "    def show_car_details(self):\n",
    "        print(\"I am a car\")\n",
    "c1 = Car(200,800)\n",
    "c1.show_vehicle_details() # invking method from parent class\n",
    "c1.show_car_details() # invoking method from child class"
   ]
  },
  {
   "cell_type": "markdown",
   "metadata": {},
   "source": [
    "#### Creating constructor inside child class"
   ]
  },
  {
   "cell_type": "code",
   "execution_count": 73,
   "metadata": {},
   "outputs": [],
   "source": [
    "class Car(Vehicle):#Inherits parent class\n",
    "    def __init__(self,mileage,cost,tyres,hp):\n",
    "#         Vehicle.__init__(self,mileage,cost)\n",
    "        super().__init__(mileage,cost)\n",
    "        self.tyres = tyres\n",
    "        self.hp= hp\n",
    "    def show_car_details(self):\n",
    "        print(\"I am a car\")\n",
    "        print(\"Number of tyres are: \",self.tyres)\n",
    "        print(\"Value of horse power is: \",self.hp)\n",
    "        \n"
   ]
  },
  {
   "cell_type": "code",
   "execution_count": 74,
   "metadata": {},
   "outputs": [
    {
     "name": "stdout",
     "output_type": "stream",
     "text": [
      "Mileage of vehivle is:  20\n",
      "Cost of vehilce is:  120000\n",
      "I am a vehicle\n",
      "I am a car\n",
      "Number of tyres are:  4\n",
      "Value of horse power is:  300\n"
     ]
    }
   ],
   "source": [
    "c1 = Car(20,120000,4,300)\n",
    "c1.show_vehicle_details()#Invoking parent method\n",
    "c1.show_car_details()#Invoking child method"
   ]
  },
  {
   "cell_type": "markdown",
   "metadata": {},
   "source": [
    "#### Types of Inheritance"
   ]
  },
  {
   "cell_type": "markdown",
   "metadata": {},
   "source": [
    "<img src=\"InheritanceTypes.PNG\" width=\"800\" />"
   ]
  },
  {
   "cell_type": "markdown",
   "metadata": {},
   "source": [
    "### Multiple Inheritance"
   ]
  },
  {
   "cell_type": "markdown",
   "metadata": {},
   "source": [
    "<img src=\"MultipleInheritance.PNG\" width=\"800\" />"
   ]
  },
  {
   "cell_type": "code",
   "execution_count": 61,
   "metadata": {},
   "outputs": [
    {
     "name": "stdout",
     "output_type": "stream",
     "text": [
      "I am string of Parent 1\n",
      "I am string of parent 2\n",
      "I am string of child\n"
     ]
    }
   ],
   "source": [
    "class Parent1:\n",
    "    def assign_string_one(self,str1):\n",
    "        self.str1=str1\n",
    "    def show_string_one(self):\n",
    "        return self.str1\n",
    "    \n",
    "class Parent2:\n",
    "    def assign_string_two(self,str2):\n",
    "        self.str2=str2\n",
    "    def show_string_two(self):\n",
    "        return self.str2\n",
    "    \n",
    "class Child(Parent1,Parent2):\n",
    "    def assign_string_three(self,str3):\n",
    "        self.str3=str3\n",
    "    def show_string_three(self):\n",
    "        return self.str3\n",
    "    \n",
    "my_child = Child()\n",
    "my_child.assign_string_one(\"I am string of Parent 1\")\n",
    "my_child.assign_string_two(\"I am string of parent 2\")\n",
    "my_child.assign_string_three(\"I am string of child\")\n",
    "print(my_child.show_string_one())\n",
    "print(my_child.show_string_two())\n",
    "print(my_child.show_string_three())\n",
    "\n",
    "\n",
    "    "
   ]
  },
  {
   "cell_type": "code",
   "execution_count": 64,
   "metadata": {},
   "outputs": [
    {
     "name": "stdout",
     "output_type": "stream",
     "text": [
      "I am string of Parent 1\n",
      "I am string of parent 2\n",
      "I am string of child\n",
      "I am :  Mom\n",
      "I am :  Dad\n",
      "I am :  Child\n"
     ]
    }
   ],
   "source": [
    "class Parent1:\n",
    "    def __init__(self, mom):\n",
    "        self.mom = mom\n",
    "    def assign_string_one(self,str1):\n",
    "        self.str1=str1\n",
    "    def show_string_one(self):\n",
    "        return self.str1\n",
    "    def parent_type1(self):\n",
    "        print(\"I am : \",self.mom)\n",
    "    \n",
    "class Parent2:\n",
    "    def __init__(self, dad):\n",
    "        self.dad = dad\n",
    "    def assign_string_two(self,str2):\n",
    "        self.str2=str2\n",
    "    def show_string_two(self):\n",
    "        return self.str2\n",
    "    def parent_type2(self):\n",
    "        print(\"I am : \",self.dad)\n",
    "    \n",
    "class Child(Parent1,Parent2):\n",
    "    def __init__(self,mom,dad,child):\n",
    "        Parent1.__init__(self,mom)\n",
    "        Parent2.__init__(self,dad)\n",
    "        self.child=child\n",
    "    def assign_string_three(self,str3):\n",
    "        self.str3=str3\n",
    "    def show_string_three(self):\n",
    "        return self.str3\n",
    "    def relation(self):\n",
    "        print(\"I am : \",self.child)\n",
    "\n",
    "my_child = Child(\"Mom\",\"Dad\",\"Child\")\n",
    "my_child.assign_string_one(\"I am string of Parent 1\")\n",
    "my_child.assign_string_two(\"I am string of parent 2\")\n",
    "my_child.assign_string_three(\"I am string of child\")\n",
    "print(my_child.show_string_one())\n",
    "print(my_child.show_string_two())\n",
    "print(my_child.show_string_three())\n",
    "my_child.parent_type1()\n",
    "my_child.parent_type2()\n",
    "my_child.relation()"
   ]
  },
  {
   "cell_type": "markdown",
   "metadata": {},
   "source": [
    "### Multilevel Inheritance"
   ]
  },
  {
   "cell_type": "markdown",
   "metadata": {},
   "source": [
    "<img src=\"MultilevelInheritance.PNG\" width=\"800\" />"
   ]
  },
  {
   "cell_type": "code",
   "execution_count": 69,
   "metadata": {},
   "outputs": [
    {
     "name": "stdout",
     "output_type": "stream",
     "text": [
      "I am :  Parent\n",
      "I am :  Child\n",
      "I am :  Grand_child\n"
     ]
    }
   ],
   "source": [
    "class Parent:\n",
    "    def __init__(self,parent):\n",
    "        self.parent = parent\n",
    "    def show_relation1(self):\n",
    "        print(\"I am : \",self.parent)\n",
    "        \n",
    "class Child(Parent):\n",
    "    def __init__(self,parent,child):\n",
    "        Parent.__init__(self,parent)\n",
    "        self.child=child\n",
    "    def show_relation2(self):\n",
    "        print(\"I am : \",self.child)\n",
    "    \n",
    "class Grand_child(Child):\n",
    "    def __init__(self,parent,child,grand_child):\n",
    "#         Parent.__init__(self,parent)\n",
    "        Child.__init__(self,parent,child)\n",
    "        self.grand_child = grand_child\n",
    "    def show_relation3(self):\n",
    "        print(\"I am : \",self.grand_child)\n",
    "\n",
    "g1 = Grand_child(\"Parent\",\"Child\",\"Grand_child\")\n",
    "g1.show_relation1()\n",
    "g1.show_relation2()\n",
    "g1.show_relation3()\n"
   ]
  },
  {
   "cell_type": "code",
   "execution_count": null,
   "metadata": {},
   "outputs": [],
   "source": []
  }
 ],
 "metadata": {
  "kernelspec": {
   "display_name": "Python 3",
   "language": "python",
   "name": "python3"
  },
  "language_info": {
   "codemirror_mode": {
    "name": "ipython",
    "version": 3
   },
   "file_extension": ".py",
   "mimetype": "text/x-python",
   "name": "python",
   "nbconvert_exporter": "python",
   "pygments_lexer": "ipython3",
   "version": "3.7.3"
  }
 },
 "nbformat": 4,
 "nbformat_minor": 2
}
