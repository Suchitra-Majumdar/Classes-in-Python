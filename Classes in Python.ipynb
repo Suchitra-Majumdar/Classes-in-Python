{
 "cells": [
  {
   "cell_type": "code",
   "execution_count": null,
   "metadata": {},
   "outputs": [],
   "source": []
  },
  {
   "cell_type": "code",
   "execution_count": 1,
   "metadata": {},
   "outputs": [
    {
     "name": "stdout",
     "output_type": "stream",
     "text": [
      "Make Phone calls\n",
      "Playing games\n"
     ]
    }
   ],
   "source": [
    "class Phone:\n",
    "    def make_call(self):\n",
    "        print(\"Make Phone calls\")\n",
    "    def play_game(self):\n",
    "        print(\"Playing games\")\n",
    "p1 = Phone()\n",
    "p1.make_call()\n",
    "p1.play_game()"
   ]
  },
  {
   "cell_type": "markdown",
   "metadata": {},
   "source": [
    "***************************************************************************\n",
    "class name should always start by capital letter\n",
    "\n",
    "self is used to invoke inbuilt parameter\n",
    "\n",
    "class is like a template\n",
    "\n",
    "object is an entity which belongs to particular class.\n",
    "\n",
    "for eg, Phone can be considered as a class and nokia, motorola, One plus can be considered the objects of class phone.\n",
    "\n",
    "class has basically two features:Properties and behaviour\n",
    "\n",
    "In programming language we call properties as Attributes and behaviour as methods \n",
    "\n",
    "in case of class Phone, color and cost can be considered as its attributes and make_cakk and play_games can be considered as methods\n"
   ]
  },
  {
   "cell_type": "code",
   "execution_count": 2,
   "metadata": {},
   "outputs": [],
   "source": [
    "########################################################################"
   ]
  },
  {
   "cell_type": "code",
   "execution_count": 6,
   "metadata": {},
   "outputs": [
    {
     "name": "stdout",
     "output_type": "stream",
     "text": [
      "black\n",
      "5000\n",
      "Make Phone calls\n",
      "Playing games\n"
     ]
    }
   ],
   "source": [
    "class Phone:\n",
    "    def set_color(self,color):\n",
    "        self.color = color\n",
    "    def set_cost(self, cost):\n",
    "        self.cost = cost\n",
    "    def show_color(self):\n",
    "        return self.color\n",
    "    def show_cost(self):\n",
    "        return self.cost\n",
    "    def make_call(self):\n",
    "        print(\"Make Phone calls\")\n",
    "    def play_game(self):\n",
    "        print(\"Playing games\")\n",
    "p2 = Phone()\n",
    "p2.set_color(\"black\")\n",
    "p2.set_cost(5000)\n",
    "print(p2.show_color())\n",
    "print(p2.show_cost())\n",
    "p2.make_call()\n",
    "p2.play_game()"
   ]
  },
  {
   "cell_type": "markdown",
   "metadata": {},
   "source": [
    "*******************************************************************************\n",
    "In above case to assign each and every properties we need to define separate method insde a class. in order to reduce down the number of methods exclusively for assigning attributes we can take the help of constructor\n",
    "For intiallizing the attrbutes we can take the help of __init__ costructor\n",
    "Here while creating an object, we can pass the parameters at same instant itself."
   ]
  },
  {
   "cell_type": "code",
   "execution_count": 11,
   "metadata": {},
   "outputs": [
    {
     "name": "stdout",
     "output_type": "stream",
     "text": [
      "Color of phone is :  Black\n",
      "cost of the phone is :  5000\n",
      "Make a call\n",
      "Playing games\n"
     ]
    }
   ],
   "source": [
    "class Phone:\n",
    "    def __init__(self,color,cost):\n",
    "        self.color = color\n",
    "        self.cost = cost\n",
    "    def phone_properties(self):\n",
    "        print(\"Color of phone is : \",self.color)\n",
    "        print(\"cost of the phone is : \",self.cost)\n",
    "    def make_call(self):\n",
    "        print(\"Make a call\")\n",
    "    def play_games(self):\n",
    "        print(\"Playing games\")\n",
    "        \n",
    "p3 = Phone(\"Black\",5000)\n",
    "p3.phone_properties()\n",
    "p3.make_call()\n",
    "p3.play_games()"
   ]
  },
  {
   "cell_type": "code",
   "execution_count": null,
   "metadata": {},
   "outputs": [],
   "source": []
  },
  {
   "cell_type": "code",
   "execution_count": null,
   "metadata": {},
   "outputs": [],
   "source": []
  }
 ],
 "metadata": {
  "kernelspec": {
   "display_name": "Python 3",
   "language": "python",
   "name": "python3"
  },
  "language_info": {
   "codemirror_mode": {
    "name": "ipython",
    "version": 3
   },
   "file_extension": ".py",
   "mimetype": "text/x-python",
   "name": "python",
   "nbconvert_exporter": "python",
   "pygments_lexer": "ipython3",
   "version": "3.7.3"
  }
 },
 "nbformat": 4,
 "nbformat_minor": 2
}
