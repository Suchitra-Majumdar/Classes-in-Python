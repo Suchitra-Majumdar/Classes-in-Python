{
 "cells": [
  {
   "cell_type": "code",
   "execution_count": 1,
   "metadata": {},
   "outputs": [],
   "source": [
    "import sys\n",
    "class Customer:\n",
    "    def __init__(self,name,balance):\n",
    "        self.name = name\n",
    "        self.balance = balance\n",
    "    def deposit(self,amt):\n",
    "        self.balance = self.balance + amt\n",
    "        print('The current balance is : ',self.balance)\n",
    "    def withdraw(self,amt):\n",
    "        if amt > self.balance:\n",
    "            print(\"Insufficient balance\")\n",
    "#             sys.exit()\n",
    "        else:\n",
    "            self.balance = self.balance - amt\n",
    "            print(\"The current balcnce after withdrawal is \",self.balance)\n",
    "            \n"
   ]
  },
  {
   "cell_type": "code",
   "execution_count": 2,
   "metadata": {},
   "outputs": [],
   "source": [
    "c1 = Customer('sunny',1000)"
   ]
  },
  {
   "cell_type": "code",
   "execution_count": 3,
   "metadata": {},
   "outputs": [
    {
     "name": "stdout",
     "output_type": "stream",
     "text": [
      "The current balance is :  3000\n"
     ]
    }
   ],
   "source": [
    "c1.deposit(2000)"
   ]
  },
  {
   "cell_type": "code",
   "execution_count": 4,
   "metadata": {},
   "outputs": [
    {
     "name": "stdout",
     "output_type": "stream",
     "text": [
      "Insufficient balance\n"
     ]
    }
   ],
   "source": [
    "c1.withdraw(5000)"
   ]
  },
  {
   "cell_type": "code",
   "execution_count": 5,
   "metadata": {},
   "outputs": [
    {
     "name": "stdout",
     "output_type": "stream",
     "text": [
      "d-Deposit\n",
      "w-Withdrawal\n",
      "e-Exit\n",
      "Choose your optione\n",
      "Thanks for Banking\n"
     ]
    }
   ],
   "source": [
    "while True:\n",
    "    print('d-Deposit\\nw-Withdrawal\\ne-Exit')\n",
    "    option = input(\"Choose your option\").lower()\n",
    "    if option == 'd':\n",
    "        amt = int(input(\"Enter amount to be deposited\"))\n",
    "        c1.deposit(amt)\n",
    "    elif option == 'w':\n",
    "        amt = int(input(\"Enter amount to be withdrawn\"))\n",
    "        c1.withdraw(amt)\n",
    "    elif option == 'e':\n",
    "        print(\"Thanks for Banking\")\n",
    "        break\n",
    "    else:\n",
    "        print(\"Invalid option, pls try again\")"
   ]
  },
  {
   "cell_type": "code",
   "execution_count": null,
   "metadata": {},
   "outputs": [],
   "source": []
  },
  {
   "cell_type": "code",
   "execution_count": 12,
   "metadata": {},
   "outputs": [],
   "source": [
    "class Student:\n",
    "    def __init__(self,name,marks):\n",
    "        self.name = name\n",
    "        self.marks = marks\n",
    "    def display(self):\n",
    "        print(\"Hi\",self.name,\"your marks is\",self.marks)\n",
    "    def grade(self):\n",
    "        if self.marks >= 60:\n",
    "            print(\"First grade\")\n",
    "        elif self.marks >=50:\n",
    "            print(\"Second grade\")\n",
    "        elif self.marks >= 35:\n",
    "            print(\"Third Grade\")\n",
    "        else:\n",
    "            print(\"You have failed\")"
   ]
  },
  {
   "cell_type": "code",
   "execution_count": 9,
   "metadata": {},
   "outputs": [
    {
     "name": "stdout",
     "output_type": "stream",
     "text": [
      "Hi sunny your marks is 60\n",
      "First grade\n"
     ]
    }
   ],
   "source": [
    "s1 = Student(\"sunny\",60)\n",
    "s1.display()\n",
    "s1.grade()"
   ]
  },
  {
   "cell_type": "code",
   "execution_count": 13,
   "metadata": {},
   "outputs": [
    {
     "name": "stdout",
     "output_type": "stream",
     "text": [
      "Enter number of students2\n",
      "Enter student's name: sunny\n",
      "Enter student's mark60\n",
      "Hi sunny your marks is 60\n",
      "First grade\n",
      "Enter student's name: bunny\n",
      "Enter student's mark50\n",
      "Hi bunny your marks is 50\n",
      "Second grade\n"
     ]
    }
   ],
   "source": [
    "n = int(input(\"Enter number of students\"))\n",
    "for i in range(n):\n",
    "    name = input(\"Enter student's name: \")\n",
    "    marks = int(input(\"Enter student's mark\"))\n",
    "    s = Student(name,marks)\n",
    "    s.display()\n",
    "    s.grade()"
   ]
  },
  {
   "cell_type": "markdown",
   "metadata": {},
   "source": [
    "### setter and getter\n"
   ]
  },
  {
   "cell_type": "code",
   "execution_count": 2,
   "metadata": {},
   "outputs": [
    {
     "name": "stdout",
     "output_type": "stream",
     "text": [
      "Enter number of student2\n",
      "Enter student's namesunny\n",
      "Enter student's marks: 75\n",
      "Hi sunny\n",
      "Your marks are:  75\n",
      "Enter student's namebunny\n",
      "Enter student's marks: 85\n",
      "Hi bunny\n",
      "Your marks are:  85\n"
     ]
    }
   ],
   "source": [
    "class Student:\n",
    "    def setName(self,name):\n",
    "        self.name = name\n",
    "    def getName(self):\n",
    "        return self.name\n",
    "    def setMarks(self,marks):\n",
    "        self.marks = marks\n",
    "    def getMarks(self):\n",
    "        return self.marks\n",
    "    \n",
    "n = int(input(\"Enter number of student\"))\n",
    "for i in range(n):\n",
    "    name = input(\"Enter student's name\")\n",
    "    marks = int(input(\"Enter student's marks: \"))\n",
    "    s = Student()\n",
    "    s.setName(name)\n",
    "    s.setMarks(marks)\n",
    "    print(\"Hi\",s.getName())\n",
    "    print(\"Your marks are: \",s.getMarks())\n"
   ]
  },
  {
   "cell_type": "code",
   "execution_count": 6,
   "metadata": {},
   "outputs": [
    {
     "name": "stdout",
     "output_type": "stream",
     "text": [
      "Dog walks with 4 legs\n",
      "Cat walks with 4 legs\n"
     ]
    }
   ],
   "source": [
    "## Class variable and local variable\n",
    "class Animal:\n",
    "    legs = 4\n",
    "    \n",
    "    @classmethod\n",
    "    def walk(cls,name):\n",
    "        print(f'{name} walks with {cls.legs} legs')\n",
    "Animal.walk('Dog')\n",
    "Animal.walk('Cat')"
   ]
  },
  {
   "cell_type": "code",
   "execution_count": 7,
   "metadata": {},
   "outputs": [
    {
     "name": "stdout",
     "output_type": "stream",
     "text": [
      "The total number of object created are 4\n"
     ]
    }
   ],
   "source": [
    "# To track number of object created\n",
    "class Test:\n",
    "    \n",
    "    count = 0\n",
    "    def __init__(self):\n",
    "        Test.count +=1\n",
    "    @classmethod\n",
    "    def getNoOfObjects(cls):\n",
    "        print(f'The total number of object created are {Test.count}')\n",
    "t1 = Test()\n",
    "t2 = Test()\n",
    "t3 = Test()\n",
    "t4 = Test()\n",
    "Test.getNoOfObjects()"
   ]
  },
  {
   "cell_type": "code",
   "execution_count": null,
   "metadata": {},
   "outputs": [],
   "source": []
  },
  {
   "cell_type": "code",
   "execution_count": null,
   "metadata": {},
   "outputs": [],
   "source": []
  }
 ],
 "metadata": {
  "kernelspec": {
   "display_name": "Python 3",
   "language": "python",
   "name": "python3"
  },
  "language_info": {
   "codemirror_mode": {
    "name": "ipython",
    "version": 3
   },
   "file_extension": ".py",
   "mimetype": "text/x-python",
   "name": "python",
   "nbconvert_exporter": "python",
   "pygments_lexer": "ipython3",
   "version": "3.8.5"
  }
 },
 "nbformat": 4,
 "nbformat_minor": 4
}
