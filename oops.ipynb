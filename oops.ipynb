{
 "cells": [
  {
   "cell_type": "code",
   "execution_count": 1,
   "metadata": {},
   "outputs": [],
   "source": [
    "import sys\n",
    "class Customer:\n",
    "    def __init__(self,name,balance):\n",
    "        self.name = name\n",
    "        self.balance = balance\n",
    "    def deposit(self,amt):\n",
    "        self.balance = self.balance + amt\n",
    "        print('The current balance is : ',self.balance)\n",
    "    def withdraw(self,amt):\n",
    "        if amt > self.balance:\n",
    "            print(\"Insufficient balance\")\n",
    "#             sys.exit()\n",
    "        else:\n",
    "            self.balance = self.balance - amt\n",
    "            print(\"The current balcnce after withdrawal is \",self.balance)\n",
    "            \n"
   ]
  },
  {
   "cell_type": "code",
   "execution_count": 2,
   "metadata": {},
   "outputs": [],
   "source": [
    "c1 = Customer('sunny',1000)"
   ]
  },
  {
   "cell_type": "code",
   "execution_count": 3,
   "metadata": {},
   "outputs": [
    {
     "name": "stdout",
     "output_type": "stream",
     "text": [
      "The current balance is :  3000\n"
     ]
    }
   ],
   "source": [
    "c1.deposit(2000)"
   ]
  },
  {
   "cell_type": "code",
   "execution_count": 4,
   "metadata": {},
   "outputs": [
    {
     "name": "stdout",
     "output_type": "stream",
     "text": [
      "Insufficient balance\n"
     ]
    }
   ],
   "source": [
    "c1.withdraw(5000)"
   ]
  },
  {
   "cell_type": "code",
   "execution_count": 5,
   "metadata": {},
   "outputs": [
    {
     "name": "stdout",
     "output_type": "stream",
     "text": [
      "d-Deposit\n",
      "w-Withdrawal\n",
      "e-Exit\n",
      "Choose your optione\n",
      "Thanks for Banking\n"
     ]
    }
   ],
   "source": [
    "while True:\n",
    "    print('d-Deposit\\nw-Withdrawal\\ne-Exit')\n",
    "    option = input(\"Choose your option\").lower()\n",
    "    if option == 'd':\n",
    "        amt = int(input(\"Enter amount to be deposited\"))\n",
    "        c1.deposit(amt)\n",
    "    elif option == 'w':\n",
    "        amt = int(input(\"Enter amount to be withdrawn\"))\n",
    "        c1.withdraw(amt)\n",
    "    elif option == 'e':\n",
    "        print(\"Thanks for Banking\")\n",
    "        break\n",
    "    else:\n",
    "        print(\"Invalid option, pls try again\")"
   ]
  },
  {
   "cell_type": "code",
   "execution_count": null,
   "metadata": {},
   "outputs": [],
   "source": []
  },
  {
   "cell_type": "code",
   "execution_count": 12,
   "metadata": {},
   "outputs": [],
   "source": [
    "class Student:\n",
    "    def __init__(self,name,marks):\n",
    "        self.name = name\n",
    "        self.marks = marks\n",
    "    def display(self):\n",
    "        print(\"Hi\",self.name,\"your marks is\",self.marks)\n",
    "    def grade(self):\n",
    "        if self.marks >= 60:\n",
    "            print(\"First grade\")\n",
    "        elif self.marks >=50:\n",
    "            print(\"Second grade\")\n",
    "        elif self.marks >= 35:\n",
    "            print(\"Third Grade\")\n",
    "        else:\n",
    "            print(\"You have failed\")"
   ]
  },
  {
   "cell_type": "code",
   "execution_count": 9,
   "metadata": {},
   "outputs": [
    {
     "name": "stdout",
     "output_type": "stream",
     "text": [
      "Hi sunny your marks is 60\n",
      "First grade\n"
     ]
    }
   ],
   "source": [
    "s1 = Student(\"sunny\",60)\n",
    "s1.display()\n",
    "s1.grade()"
   ]
  },
  {
   "cell_type": "code",
   "execution_count": 13,
   "metadata": {},
   "outputs": [
    {
     "name": "stdout",
     "output_type": "stream",
     "text": [
      "Enter number of students2\n",
      "Enter student's name: sunny\n",
      "Enter student's mark60\n",
      "Hi sunny your marks is 60\n",
      "First grade\n",
      "Enter student's name: bunny\n",
      "Enter student's mark50\n",
      "Hi bunny your marks is 50\n",
      "Second grade\n"
     ]
    }
   ],
   "source": [
    "n = int(input(\"Enter number of students\"))\n",
    "for i in range(n):\n",
    "    name = input(\"Enter student's name: \")\n",
    "    marks = int(input(\"Enter student's mark\"))\n",
    "    s = Student(name,marks)\n",
    "    s.display()\n",
    "    s.grade()"
   ]
  },
  {
   "cell_type": "markdown",
   "metadata": {},
   "source": [
    "### setter and getter\n"
   ]
  },
  {
   "cell_type": "code",
   "execution_count": 2,
   "metadata": {},
   "outputs": [
    {
     "name": "stdout",
     "output_type": "stream",
     "text": [
      "Enter number of student2\n",
      "Enter student's namesunny\n",
      "Enter student's marks: 75\n",
      "Hi sunny\n",
      "Your marks are:  75\n",
      "Enter student's namebunny\n",
      "Enter student's marks: 85\n",
      "Hi bunny\n",
      "Your marks are:  85\n"
     ]
    }
   ],
   "source": [
    "class Student:\n",
    "    def setName(self,name):\n",
    "        self.name = name\n",
    "    def getName(self):\n",
    "        return self.name\n",
    "    def setMarks(self,marks):\n",
    "        self.marks = marks\n",
    "    def getMarks(self):\n",
    "        return self.marks\n",
    "    \n",
    "n = int(input(\"Enter number of student\"))\n",
    "for i in range(n):\n",
    "    name = input(\"Enter student's name\")\n",
    "    marks = int(input(\"Enter student's marks: \"))\n",
    "    s = Student()\n",
    "    s.setName(name)\n",
    "    s.setMarks(marks)\n",
    "    print(\"Hi\",s.getName())\n",
    "    print(\"Your marks are: \",s.getMarks())\n"
   ]
  },
  {
   "cell_type": "code",
   "execution_count": 6,
   "metadata": {},
   "outputs": [
    {
     "name": "stdout",
     "output_type": "stream",
     "text": [
      "Dog walks with 4 legs\n",
      "Cat walks with 4 legs\n"
     ]
    }
   ],
   "source": [
    "## Class variable and local variable\n",
    "class Animal:\n",
    "    legs = 4\n",
    "    \n",
    "    @classmethod\n",
    "    def walk(cls,name):\n",
    "        print(f'{name} walks with {cls.legs} legs')\n",
    "Animal.walk('Dog')\n",
    "Animal.walk('Cat')"
   ]
  },
  {
   "cell_type": "code",
   "execution_count": 7,
   "metadata": {},
   "outputs": [
    {
     "name": "stdout",
     "output_type": "stream",
     "text": [
      "The total number of object created are 4\n"
     ]
    }
   ],
   "source": [
    "# To track number of object created\n",
    "class Test:\n",
    "    \n",
    "    count = 0\n",
    "    def __init__(self):\n",
    "        Test.count +=1\n",
    "    @classmethod\n",
    "    def getNoOfObjects(cls):\n",
    "        print(f'The total number of object created are {Test.count}')\n",
    "t1 = Test()\n",
    "t2 = Test()\n",
    "t3 = Test()\n",
    "t4 = Test()\n",
    "Test.getNoOfObjects()"
   ]
  },
  {
   "cell_type": "code",
   "execution_count": 10,
   "metadata": {},
   "outputs": [
    {
     "name": "stdout",
     "output_type": "stream",
     "text": [
      "instance method 10 Durga\n"
     ]
    }
   ],
   "source": [
    "class Test:\n",
    "    \n",
    "    def m1(self,name):\n",
    "        self.x = 10\n",
    "        print(\"instance method\",self.x,name)\n",
    "        \n",
    "t1 = Test()\n",
    "t1.m1('Durga')\n",
    "        "
   ]
  },
  {
   "cell_type": "code",
   "execution_count": 11,
   "metadata": {},
   "outputs": [
    {
     "name": "stdout",
     "output_type": "stream",
     "text": [
      "The Sum :  30\n",
      "The product :  200\n",
      "The average:  15.0\n"
     ]
    }
   ],
   "source": [
    "## Static method\n",
    "class MathOperation:\n",
    "    \n",
    "    @staticmethod\n",
    "    def add(x,y):\n",
    "        print(\"The Sum : \",x+y)\n",
    "    \n",
    "    @staticmethod\n",
    "    def product(x,y):\n",
    "        print(\"The product : \",x*y)\n",
    "        \n",
    "    @staticmethod\n",
    "    def average(x,y):\n",
    "        print(\"The average: \",(x+y)/2)\n",
    "\n",
    "m1 = MathOperation()\n",
    "m1.add(10,20)\n",
    "m1.product(10,20)\n",
    "m1.average(10,20)\n",
    "    "
   ]
  },
  {
   "cell_type": "code",
   "execution_count": 17,
   "metadata": {},
   "outputs": [
    {
     "name": "stdout",
     "output_type": "stream",
     "text": [
      "Employee number 12345\n",
      "Employee name Durga\n",
      "Employee salary 80000\n"
     ]
    }
   ],
   "source": [
    "## How to acess member of one class inside another class\n",
    "class Employee:\n",
    "    def __init__(self,eno,ename,esal):\n",
    "        self.eno = eno\n",
    "        self.ename = ename\n",
    "        self.esal = esal\n",
    "    def display(self):\n",
    "        print(\"Employee number\",self.eno)\n",
    "        print(\"Employee name\",self.ename)\n",
    "        print(\"Employee salary\",self.esal)\n",
    "        \n",
    "class Test:\n",
    "    def modify(emp):\n",
    "        emp.esal = emp.esal + 10000\n",
    "        emp.display()\n",
    "        \n",
    "e = Employee(12345,\"Durga\",70000)\n",
    "Test.modify(e)\n",
    "        \n",
    "    \n",
    "        \n",
    "        \n",
    "            "
   ]
  },
  {
   "cell_type": "code",
   "execution_count": 23,
   "metadata": {},
   "outputs": [
    {
     "name": "stdout",
     "output_type": "stream",
     "text": [
      "Outer class object execution..\n",
      "Outer Class method\n"
     ]
    }
   ],
   "source": [
    "## Inner Classes\n",
    "class Outer:\n",
    "    def __init__(self):\n",
    "        print(\"Outer class object execution..\")\n",
    "    def m2(self):\n",
    "        print(\"Outer Class method\")\n",
    "    class Inner:\n",
    "        def __init__(self):\n",
    "            print(\"Inner class object execution\")\n",
    "        def m1(self):\n",
    "            print(\"Inner class method\")\n",
    "            \n",
    "# o = Outer()\n",
    "# i = o.Inner()\n",
    "# i.m1()\n",
    "# Outer().Inner().m1()\n",
    "o = Outer()\n",
    "o.m2()"
   ]
  },
  {
   "cell_type": "code",
   "execution_count": 30,
   "metadata": {},
   "outputs": [
    {
     "name": "stdout",
     "output_type": "stream",
     "text": [
      "COnstructor execution..\n",
      "I can talk\n"
     ]
    }
   ],
   "source": [
    "class Human:\n",
    "    def __init__(self):\n",
    "        self.head = self.Head()\n",
    "        self.brain = self.Brain()\n",
    "        print(\"COnstructor execution..\")\n",
    "        \n",
    "    class Head:\n",
    "        def talk(self):\n",
    "            print(\"I can talk\")\n",
    "    class Brain:\n",
    "        def think():\n",
    "            print(\"I can think\")\n",
    "            \n",
    "h1 = Human()\n",
    "h1.Head().talk()\n"
   ]
  },
  {
   "cell_type": "code",
   "execution_count": 31,
   "metadata": {},
   "outputs": [
    {
     "name": "stdout",
     "output_type": "stream",
     "text": [
      "Name:  Durga\n",
      "DOB = 15/8/1947\n"
     ]
    }
   ],
   "source": [
    "class Person:\n",
    "    def __init__(self):\n",
    "        self.name = 'Durga'\n",
    "        self.dob = self.DOB()\n",
    "    def display(self):\n",
    "        print(\"Name: \",self.name)\n",
    "        self.dob.display()\n",
    "        \n",
    "    class DOB:\n",
    "        def __init__(self):\n",
    "            self.dd = 15\n",
    "            self.mm = 8\n",
    "            self.yyyy = 1947\n",
    "            \n",
    "        def display(self):\n",
    "            print(f\"DOB = {self.dd}/{self.mm}/{self.yyyy}\")\n",
    "            \n",
    "p1 = Person()\n",
    "p1.display()"
   ]
  },
  {
   "cell_type": "code",
   "execution_count": 35,
   "metadata": {},
   "outputs": [
    {
     "name": "stdout",
     "output_type": "stream",
     "text": [
      "Inner class method\n",
      "outer class method\n"
     ]
    }
   ],
   "source": [
    "class Outer:\n",
    "    def m2(self):\n",
    "        print(\"outer class method\")\n",
    "    class Inner:\n",
    "        def m1(self):\n",
    "            print(\"Inner class method\")\n",
    "            \n",
    "##if u want to call inner class, first u need to create outer class object object, \n",
    "#and then using outer class object we need to call inner class object \n",
    "#and then we can call method of inner class\n",
    "o = Outer()\n",
    "i = o.Inner()\n",
    "i.m1()\n",
    "o.m2()"
   ]
  },
  {
   "cell_type": "code",
   "execution_count": 38,
   "metadata": {},
   "outputs": [
    {
     "name": "stdout",
     "output_type": "stream",
     "text": [
      "Name:  Durga\n",
      "DOB: 5/8/1947\n",
      "DOB: 5/8/1947\n"
     ]
    }
   ],
   "source": [
    "class Person:\n",
    "    def __init__(self,name,dd,mm,yyyy):\n",
    "        self.name = name\n",
    "        self.dob = self.DOB(dd,mm,yyyy)\n",
    "    def display(self):\n",
    "        print(\"Name: \",self.name)\n",
    "        self.dob.display()\n",
    "        \n",
    "    class DOB:\n",
    "        def __init__(self,dd,mm,yyyy):\n",
    "            self.dd = dd\n",
    "            self.mm = mm\n",
    "            self.yyyy = yyyy\n",
    "        def display(self):\n",
    "            print('DOB: {}/{}/{}'.format(self.dd,self.mm,self.yyyy))\n",
    "p = Person(\"Durga\",5,8,1947)\n",
    "p.display()\n",
    "p.dob.display()"
   ]
  },
  {
   "cell_type": "code",
   "execution_count": 5,
   "metadata": {},
   "outputs": [
    {
     "name": "stdout",
     "output_type": "stream",
     "text": [
      "Name:  Durga\n",
      "Talking..\n",
      "Thinking..\n",
      "Thinking..\n"
     ]
    }
   ],
   "source": [
    "class Human:\n",
    "    def __init__(self):\n",
    "        self.name='Durga'\n",
    "        self.head = self.Head()\n",
    "        \n",
    "    def display(self):\n",
    "        print(\"Name: \",self.name)\n",
    "        self.head.talk()\n",
    "        self.head.brain.think()\n",
    "        #whenever you will be calling human display, it will\n",
    "        #calltalk and think methods of respective class\n",
    "        \n",
    "    class Head:\n",
    "        def __init__(self):\n",
    "            self.brain = self.Brain()\n",
    "        def talk(self):\n",
    "            print(\"Talking..\")\n",
    "        \n",
    "        class Brain:\n",
    "            def think(self):\n",
    "                print(\"Thinking..\")\n",
    "h1 = Human()\n",
    "h1.display()\n",
    "h1.Head().Brain().think()\n",
    "    "
   ]
  },
  {
   "cell_type": "markdown",
   "metadata": {},
   "source": [
    "### Nested Methods"
   ]
  },
  {
   "cell_type": "code",
   "execution_count": 7,
   "metadata": {},
   "outputs": [
    {
     "name": "stdout",
     "output_type": "stream",
     "text": [
      "First argument:  10\n",
      "Second argument:  20\n",
      "Sum:  30\n",
      "******************************\n",
      "First argument:  100\n",
      "Second argument:  200\n",
      "Sum:  300\n",
      "******************************\n",
      "First argument:  1000\n",
      "Second argument:  2000\n",
      "Sum:  3000\n",
      "******************************\n"
     ]
    }
   ],
   "source": [
    "class Test:\n",
    "    def m1(self):\n",
    "        def sum(a,b):\n",
    "            print('First argument: ',a)\n",
    "            print('Second argument: ',b)\n",
    "            print(\"Sum: \",a+b)\n",
    "            print(\"*\"*30)\n",
    "        sum(10,20)\n",
    "        sum(100,200)\n",
    "        sum(1000,2000)\n",
    "        \n",
    "t1 = Test()\n",
    "t1.m1()"
   ]
  },
  {
   "cell_type": "markdown",
   "metadata": {},
   "source": [
    "## Garbage Collection"
   ]
  },
  {
   "cell_type": "code",
   "execution_count": 8,
   "metadata": {},
   "outputs": [
    {
     "name": "stdout",
     "output_type": "stream",
     "text": [
      "Object initialization\n",
      "Fulfilling last wish and performing cleanup activities\n",
      "End of application\n"
     ]
    }
   ],
   "source": [
    "import time\n",
    "class Test:\n",
    "    def __init__(self):\n",
    "        print(\"Object initialization\")\n",
    "    def __del__(self):\n",
    "        print(\"Fulfilling last wish and performing cleanup activities\")\n",
    "        \n",
    "t1 = Test()\n",
    "t1 = None\n",
    "time.sleep(10)\n",
    "print(\"End of application\")"
   ]
  },
  {
   "cell_type": "code",
   "execution_count": 12,
   "metadata": {},
   "outputs": [
    {
     "name": "stdout",
     "output_type": "stream",
     "text": [
      "Object initialization\n",
      "Fulfilling last wish and performing cleanup activities\n",
      "End of application\n"
     ]
    }
   ],
   "source": [
    "import time\n",
    "class Test:\n",
    "    def __init__(self):\n",
    "        print(\"Object initialization\")\n",
    "    def __del__(self):\n",
    "        print(\"Fulfilling last wish and performing cleanup activities\")\n",
    "        \n",
    "t1 = Test()\n",
    "time.sleep(10)\n",
    "print(\"End of application\")\n",
    "## aftre execution, it will automatically call desctructor function to save memory"
   ]
  },
  {
   "cell_type": "code",
   "execution_count": 17,
   "metadata": {},
   "outputs": [
    {
     "name": "stdout",
     "output_type": "stream",
     "text": [
      "Object initialization\n",
      "After deleting t2,object is still not destroyed\n",
      "Still object not eligible for gc\n",
      "Fulfilling last wish and performing cleanup activities\n",
      "End of application\n"
     ]
    }
   ],
   "source": [
    "import time\n",
    "class Test:\n",
    "    def __init__(self):\n",
    "        print(\"Object initialization\")\n",
    "    def __del__(self):\n",
    "        print(\"Fulfilling last wish and performing cleanup activities\")\n",
    "        \n",
    "t1 = Test()\n",
    "t2 = t1\n",
    "t3=t2\n",
    "t4=t3\n",
    "del t2\n",
    "time.sleep(10)\n",
    "print(\"After deleting t2,object is still not destroyed\")\n",
    "del t3\n",
    "del t4\n",
    "time.sleep(10)\n",
    "print(\"Still object not eligible for gc\")\n",
    "time.sleep(10)\n",
    "del t1\n",
    "print(\"End of application\")"
   ]
  },
  {
   "cell_type": "code",
   "execution_count": 20,
   "metadata": {},
   "outputs": [
    {
     "name": "stdout",
     "output_type": "stream",
     "text": [
      "Object initialization\n",
      "Object initialization\n",
      "Object initialization\n",
      "Fulfilling last wish and performing cleanup activities\n",
      "Fulfilling last wish and performing cleanup activities\n",
      "Fulfilling last wish and performing cleanup activities\n",
      "Fulfilling last wish and performing cleanup activities\n",
      "Fulfilling last wish and performing cleanup activities\n",
      "Fulfilling last wish and performing cleanup activities\n",
      "End of application\n"
     ]
    }
   ],
   "source": [
    "import time\n",
    "class Test:\n",
    "    def __init__(self):\n",
    "        print(\"Object initialization\")\n",
    "    def __del__(self):\n",
    "        print(\"Fulfilling last wish and performing cleanup activities\")\n",
    "        \n",
    "        \n",
    "list = [Test(),Test(),Test()]\n",
    "time.sleep(10)\n",
    "list = None\n",
    "print(\"End of application\")"
   ]
  },
  {
   "cell_type": "code",
   "execution_count": 22,
   "metadata": {},
   "outputs": [
    {
     "name": "stdout",
     "output_type": "stream",
     "text": [
      "Object initialization\n",
      "4\n"
     ]
    }
   ],
   "source": [
    "import sys\n",
    "import time\n",
    "class Test:\n",
    "    def __init__(self):\n",
    "        print(\"Object initialization\")\n",
    "        \n",
    "t1 = Test()\n",
    "t2 = t1\n",
    "t3=t2\n",
    "print(sys.getrefcount(t1))\n",
    "# 4 ===> self, t1,t2,t3"
   ]
  },
  {
   "cell_type": "markdown",
   "metadata": {},
   "source": [
    "## Polymorphism"
   ]
  },
  {
   "cell_type": "code",
   "execution_count": 1,
   "metadata": {},
   "outputs": [
    {
     "name": "stdout",
     "output_type": "stream",
     "text": [
      "400\n",
      "1000\n",
      "800\n"
     ]
    }
   ],
   "source": [
    "class Book:\n",
    "    def __init__(self,pages):\n",
    "        self.pages = pages\n",
    "    \n",
    "    def __add__(self,other):\n",
    "        return self.pages + other.pages\n",
    "    \n",
    "b1=Book(100)\n",
    "b2=Book(300)\n",
    "b3=Book(700)\n",
    "print(b1+b2)\n",
    "print(b2+b3)\n",
    "print(b1+b3)\n",
    "        "
   ]
  },
  {
   "cell_type": "code",
   "execution_count": 3,
   "metadata": {},
   "outputs": [
    {
     "name": "stdout",
     "output_type": "stream",
     "text": [
      "500\n",
      "100\n",
      "60000\n"
     ]
    }
   ],
   "source": [
    "class Book:\n",
    "    def __init__(self,pages):\n",
    "        self.pages = pages\n",
    "    def __add__(self,other):\n",
    "        return self.pages + other.pages\n",
    "    def __sub__(self,other):\n",
    "        return self.pages - other.pages\n",
    "    def __mul__(self,other):\n",
    "        return self.pages*other.pages\n",
    "\n",
    "b1 = Book(300)\n",
    "b2 = Book(200)\n",
    "print(b1+b2)\n",
    "print(b1-b2)\n",
    "print(b1*b2)"
   ]
  },
  {
   "cell_type": "code",
   "execution_count": 6,
   "metadata": {},
   "outputs": [
    {
     "name": "stdout",
     "output_type": "stream",
     "text": [
      "The number of pages: 600\n",
      "The number of pages: 100\n"
     ]
    }
   ],
   "source": [
    "class Book:\n",
    "    def __init__(self,pages):\n",
    "        self.pages = pages\n",
    "        \n",
    "    def __str__(self):\n",
    "        return \"The number of pages: \"+str(self.pages)\n",
    "    \n",
    "    def __add__(self,other):\n",
    "        total=self.pages+other.pages\n",
    "        b=Book(total)\n",
    "        return b\n",
    "    \n",
    "b1=Book(100)\n",
    "b2=Book(200)\n",
    "b3=Book(300)\n",
    "print(b1+b2+b3)\n",
    "print(b1)\n"
   ]
  },
  {
   "cell_type": "code",
   "execution_count": 2,
   "metadata": {},
   "outputs": [
    {
     "name": "stdout",
     "output_type": "stream",
     "text": [
      "The number of pages: 60500\n"
     ]
    }
   ],
   "source": [
    "class Book:\n",
    "    def __init__(self,pages):\n",
    "        self.pages = pages\n",
    "        \n",
    "    def __str__(self):\n",
    "        return \"The number of pages: \"+str(self.pages)\n",
    "    \n",
    "    def __add__(self,other):\n",
    "        total=self.pages+other.pages\n",
    "        b=Book(total)\n",
    "        return b\n",
    "    def __mul__(self,other):\n",
    "        total=self.pages*other.pages\n",
    "        b=Book(total)\n",
    "        return b\n",
    "b1=Book(100)\n",
    "b2=Book(200)\n",
    "b3=Book(300)\n",
    "b4=Book(400)\n",
    "print(b1+b2*b3+b4)"
   ]
  },
  {
   "cell_type": "code",
   "execution_count": 6,
   "metadata": {},
   "outputs": [
    {
     "name": "stdout",
     "output_type": "stream",
     "text": [
      "True\n"
     ]
    }
   ],
   "source": [
    "class Student:\n",
    "    def __init__(self,name,marks):\n",
    "        self.name=name\n",
    "        self.marks=marks\n",
    "        \n",
    "s1=Student('durga',100)\n",
    "s2=Student('sunny',200)\n",
    "print(s1.marks<s2.marks)"
   ]
  },
  {
   "cell_type": "code",
   "execution_count": 7,
   "metadata": {},
   "outputs": [
    {
     "name": "stdout",
     "output_type": "stream",
     "text": [
      "True\n"
     ]
    }
   ],
   "source": [
    "#Using less than magic function\n",
    "class Student:\n",
    "    def __init__(self,name,marks):\n",
    "        self.name=name\n",
    "        self.marks=marks\n",
    "    def __lt__(self,other):\n",
    "        return self.marks<other.marks\n",
    "        \n",
    "s1=Student('durga',100)\n",
    "s2=Student('sunny',200)\n",
    "print(s1<s2)"
   ]
  },
  {
   "cell_type": "code",
   "execution_count": 8,
   "metadata": {},
   "outputs": [
    {
     "name": "stdout",
     "output_type": "stream",
     "text": [
      "This month salary:  125000\n"
     ]
    }
   ],
   "source": [
    "class Employee:\n",
    "    def __init__(self,name,salary):\n",
    "        self.name=name\n",
    "        self.salary=salary\n",
    "    def __str__(self):\n",
    "        return \n",
    "        \n",
    "class TimeSheet:\n",
    "    def __init__(self,name,days):\n",
    "        self.name=name\n",
    "        self.days=days\n",
    "e1=Employee('durga',5000)\n",
    "t1=TimeSheet('durga',25)\n",
    "print(\"This month salary: \",e1.salary*t1.days)"
   ]
  },
  {
   "cell_type": "code",
   "execution_count": 12,
   "metadata": {},
   "outputs": [
    {
     "name": "stdout",
     "output_type": "stream",
     "text": [
      "This month salary:  125000\n",
      "This month salary:  125000\n"
     ]
    }
   ],
   "source": [
    "class Employee:\n",
    "    def __init__(self,name,salary):\n",
    "        self.name=name\n",
    "        self.salary=salary\n",
    "    def __mul__(self,other):\n",
    "        return self.salary*other.days\n",
    "        \n",
    "class TimeSheet:\n",
    "    def __init__(self,name,days):\n",
    "        self.name=name\n",
    "        self.days=days\n",
    "    def __mul__(self,other):\n",
    "        return self.days*other.salary\n",
    "e1=Employee('durga',5000)\n",
    "t1=TimeSheet('durga',25)\n",
    "print(\"This month salary: \",e1*t1)\n",
    "print(\"This month salary: \",t1*e1)"
   ]
  },
  {
   "cell_type": "code",
   "execution_count": 15,
   "metadata": {},
   "outputs": [
    {
     "name": "stdout",
     "output_type": "stream",
     "text": [
      "The sum of three numbers:  6\n",
      "The sum of two numbers:  3\n",
      "Kindly provide 2 or 3 numbers\n"
     ]
    }
   ],
   "source": [
    "class Test:\n",
    "    def sum(self,a=None,b=None,c=None):\n",
    "        if a !=None and b !=None and c !=None:\n",
    "            print(\"The sum of three numbers: \",a+b+c)\n",
    "        elif a !=None and b !=None:\n",
    "            print(\"The sum of two numbers: \",a+b)\n",
    "        else:\n",
    "            print(\"Kindly provide 2 or 3 numbers\")\n",
    "t1=Test()\n",
    "t1.sum(1,2,3)\n",
    "t1.sum(1,2)\n",
    "t1.sum(3)"
   ]
  },
  {
   "cell_type": "code",
   "execution_count": 17,
   "metadata": {},
   "outputs": [
    {
     "name": "stdout",
     "output_type": "stream",
     "text": [
      "The sum:  60\n",
      "The sum:  30\n",
      "The sum:  10\n"
     ]
    }
   ],
   "source": [
    "#variable argument using *\n",
    "class Test:\n",
    "    def sum(self,*a):\n",
    "        total=0\n",
    "        for x in a:\n",
    "            total+=x\n",
    "        print(\"The sum: \",total)\n",
    "\n",
    "t1=Test()\n",
    "t1.sum(10,20,30)\n",
    "t1.sum(10,20)\n",
    "t1.sum(10)"
   ]
  },
  {
   "cell_type": "code",
   "execution_count": 18,
   "metadata": {},
   "outputs": [],
   "source": [
    "##Method overloading is not allowed as we can pass different number of argument by cotrolling default argument"
   ]
  },
  {
   "cell_type": "code",
   "execution_count": 20,
   "metadata": {},
   "outputs": [
    {
     "name": "stdout",
     "output_type": "stream",
     "text": [
      "Constructor with 0|1|2|3 arguments\n",
      "Constructor with 0|1|2|3 arguments\n",
      "Constructor with 0|1|2|3 arguments\n",
      "Constructor with 0|1|2|3 arguments\n"
     ]
    }
   ],
   "source": [
    "class Test:\n",
    "    def __init__(self,a=None,b=None,c=None):\n",
    "        print(\"Constructor with 0|1|2|3 arguments\")\n",
    "t1=Test()\n",
    "t2=Test(10)\n",
    "t3=Test(10,20)\n",
    "t4=Test(10,20,30)"
   ]
  },
  {
   "cell_type": "code",
   "execution_count": 21,
   "metadata": {},
   "outputs": [
    {
     "name": "stdout",
     "output_type": "stream",
     "text": [
      "Constructor with any number of arguments\n",
      "Constructor with any number of arguments\n",
      "Constructor with any number of arguments\n",
      "Constructor with any number of arguments\n"
     ]
    }
   ],
   "source": [
    "class Test:\n",
    "    def __init__(self,*a):\n",
    "        print(\"Constructor with any number of arguments\")\n",
    "t1=Test()\n",
    "t2=Test(10)\n",
    "t3=Test(10,20)\n",
    "t4=Test(10,20,30)"
   ]
  },
  {
   "cell_type": "code",
   "execution_count": 23,
   "metadata": {},
   "outputs": [],
   "source": [
    "##Inheritance"
   ]
  },
  {
   "cell_type": "code",
   "execution_count": 24,
   "metadata": {},
   "outputs": [
    {
     "name": "stdout",
     "output_type": "stream",
     "text": [
      "land+gold+cash+power\n",
      "Shubhalakshmi\n"
     ]
    }
   ],
   "source": [
    "class P:\n",
    "    def property(self):\n",
    "        print(\"land+gold+cash+power\")\n",
    "    def marriage(self):\n",
    "        print(\"Shubhalakshmi\")\n",
    "    \n",
    "class C(P):\n",
    "    pass\n",
    "\n",
    "c1=C()\n",
    "c1.property()\n",
    "c1.marriage()"
   ]
  },
  {
   "cell_type": "code",
   "execution_count": 25,
   "metadata": {},
   "outputs": [
    {
     "name": "stdout",
     "output_type": "stream",
     "text": [
      "land+gold+cash+power\n",
      "Shreya\n"
     ]
    }
   ],
   "source": [
    "class P:\n",
    "    def property(self):\n",
    "        print(\"land+gold+cash+power\")\n",
    "    def marriage(self):\n",
    "        print(\"Shubhalakshmi\")\n",
    "    \n",
    "class C(P):\n",
    "    def marriage(self):\n",
    "        print(\"Shreya\")\n",
    "        #if child is not convince with parent's method, it can override with creaing \n",
    "        #same method name as in Parent and pass the desired information\n",
    "        #So priority will be given to child method as against parent method\n",
    "\n",
    "c1=C()\n",
    "c1.property()\n",
    "c1.marriage()"
   ]
  },
  {
   "cell_type": "code",
   "execution_count": 26,
   "metadata": {},
   "outputs": [
    {
     "name": "stdout",
     "output_type": "stream",
     "text": [
      "land+gold+cash+power\n",
      "Shubhalakshmi\n",
      "Shreya\n"
     ]
    }
   ],
   "source": [
    "class P:\n",
    "    def property(self):\n",
    "        print(\"land+gold+cash+power\")\n",
    "    def marriage(self):\n",
    "        print(\"Shubhalakshmi\")\n",
    "    \n",
    "class C(P):\n",
    "    def marriage(self):\n",
    "        super().marriage()\n",
    "        print(\"Shreya\")\n",
    "        #when both parent and child method\n",
    "\n",
    "c1=C()\n",
    "c1.property()\n",
    "c1.marriage()"
   ]
  },
  {
   "cell_type": "code",
   "execution_count": null,
   "metadata": {},
   "outputs": [],
   "source": []
  }
 ],
 "metadata": {
  "kernelspec": {
   "display_name": "Python 3",
   "language": "python",
   "name": "python3"
  },
  "language_info": {
   "codemirror_mode": {
    "name": "ipython",
    "version": 3
   },
   "file_extension": ".py",
   "mimetype": "text/x-python",
   "name": "python",
   "nbconvert_exporter": "python",
   "pygments_lexer": "ipython3",
   "version": "3.8.5"
  }
 },
 "nbformat": 4,
 "nbformat_minor": 4
}
