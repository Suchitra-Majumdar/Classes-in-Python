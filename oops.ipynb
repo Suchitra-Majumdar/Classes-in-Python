{
 "cells": [
  {
   "cell_type": "code",
   "execution_count": 1,
   "metadata": {},
   "outputs": [],
   "source": [
    "import sys\n",
    "class Customer:\n",
    "    def __init__(self,name,balance):\n",
    "        self.name = name\n",
    "        self.balance = balance\n",
    "    def deposit(self,amt):\n",
    "        self.balance = self.balance + amt\n",
    "        print('The current balance is : ',self.balance)\n",
    "    def withdraw(self,amt):\n",
    "        if amt > self.balance:\n",
    "            print(\"Insufficient balance\")\n",
    "#             sys.exit()\n",
    "        else:\n",
    "            self.balance = self.balance - amt\n",
    "            print(\"The current balcnce after withdrawal is \",self.balance)\n",
    "            \n"
   ]
  },
  {
   "cell_type": "code",
   "execution_count": 2,
   "metadata": {},
   "outputs": [],
   "source": [
    "c1 = Customer('sunny',1000)"
   ]
  },
  {
   "cell_type": "code",
   "execution_count": 3,
   "metadata": {},
   "outputs": [
    {
     "name": "stdout",
     "output_type": "stream",
     "text": [
      "The current balance is :  3000\n"
     ]
    }
   ],
   "source": [
    "c1.deposit(2000)"
   ]
  },
  {
   "cell_type": "code",
   "execution_count": 4,
   "metadata": {},
   "outputs": [
    {
     "name": "stdout",
     "output_type": "stream",
     "text": [
      "Insufficient balance\n"
     ]
    }
   ],
   "source": [
    "c1.withdraw(5000)"
   ]
  },
  {
   "cell_type": "code",
   "execution_count": 5,
   "metadata": {},
   "outputs": [
    {
     "name": "stdout",
     "output_type": "stream",
     "text": [
      "d-Deposit\n",
      "w-Withdrawal\n",
      "e-Exit\n",
      "Choose your optione\n",
      "Thanks for Banking\n"
     ]
    }
   ],
   "source": [
    "while True:\n",
    "    print('d-Deposit\\nw-Withdrawal\\ne-Exit')\n",
    "    option = input(\"Choose your option\").lower()\n",
    "    if option == 'd':\n",
    "        amt = int(input(\"Enter amount to be deposited\"))\n",
    "        c1.deposit(amt)\n",
    "    elif option == 'w':\n",
    "        amt = int(input(\"Enter amount to be withdrawn\"))\n",
    "        c1.withdraw(amt)\n",
    "    elif option == 'e':\n",
    "        print(\"Thanks for Banking\")\n",
    "        break\n",
    "    else:\n",
    "        print(\"Invalid option, pls try again\")"
   ]
  },
  {
   "cell_type": "code",
   "execution_count": null,
   "metadata": {},
   "outputs": [],
   "source": []
  },
  {
   "cell_type": "code",
   "execution_count": 12,
   "metadata": {},
   "outputs": [],
   "source": [
    "class Student:\n",
    "    def __init__(self,name,marks):\n",
    "        self.name = name\n",
    "        self.marks = marks\n",
    "    def display(self):\n",
    "        print(\"Hi\",self.name,\"your marks is\",self.marks)\n",
    "    def grade(self):\n",
    "        if self.marks >= 60:\n",
    "            print(\"First grade\")\n",
    "        elif self.marks >=50:\n",
    "            print(\"Second grade\")\n",
    "        elif self.marks >= 35:\n",
    "            print(\"Third Grade\")\n",
    "        else:\n",
    "            print(\"You have failed\")"
   ]
  },
  {
   "cell_type": "code",
   "execution_count": 9,
   "metadata": {},
   "outputs": [
    {
     "name": "stdout",
     "output_type": "stream",
     "text": [
      "Hi sunny your marks is 60\n",
      "First grade\n"
     ]
    }
   ],
   "source": [
    "s1 = Student(\"sunny\",60)\n",
    "s1.display()\n",
    "s1.grade()"
   ]
  },
  {
   "cell_type": "code",
   "execution_count": 13,
   "metadata": {},
   "outputs": [
    {
     "name": "stdout",
     "output_type": "stream",
     "text": [
      "Enter number of students2\n",
      "Enter student's name: sunny\n",
      "Enter student's mark60\n",
      "Hi sunny your marks is 60\n",
      "First grade\n",
      "Enter student's name: bunny\n",
      "Enter student's mark50\n",
      "Hi bunny your marks is 50\n",
      "Second grade\n"
     ]
    }
   ],
   "source": [
    "n = int(input(\"Enter number of students\"))\n",
    "for i in range(n):\n",
    "    name = input(\"Enter student's name: \")\n",
    "    marks = int(input(\"Enter student's mark\"))\n",
    "    s = Student(name,marks)\n",
    "    s.display()\n",
    "    s.grade()"
   ]
  },
  {
   "cell_type": "code",
   "execution_count": null,
   "metadata": {},
   "outputs": [],
   "source": []
  }
 ],
 "metadata": {
  "kernelspec": {
   "display_name": "Python 3",
   "language": "python",
   "name": "python3"
  },
  "language_info": {
   "codemirror_mode": {
    "name": "ipython",
    "version": 3
   },
   "file_extension": ".py",
   "mimetype": "text/x-python",
   "name": "python",
   "nbconvert_exporter": "python",
   "pygments_lexer": "ipython3",
   "version": "3.8.5"
  }
 },
 "nbformat": 4,
 "nbformat_minor": 4
}
